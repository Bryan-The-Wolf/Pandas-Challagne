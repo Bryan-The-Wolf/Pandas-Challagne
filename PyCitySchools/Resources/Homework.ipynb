{
 "cells": [
  {
   "cell_type": "markdown",
   "metadata": {},
   "source": [
    "### Note\n",
    "* Instructions have been included for each segment. You do not have to follow them exactly, but they are included to help you think through the steps."
   ]
  },
  {
   "cell_type": "code",
   "execution_count": 1,
   "metadata": {
    "scrolled": true
   },
   "outputs": [
    {
     "data": {
      "text/html": [
       "<div>\n",
       "<style scoped>\n",
       "    .dataframe tbody tr th:only-of-type {\n",
       "        vertical-align: middle;\n",
       "    }\n",
       "\n",
       "    .dataframe tbody tr th {\n",
       "        vertical-align: top;\n",
       "    }\n",
       "\n",
       "    .dataframe thead th {\n",
       "        text-align: right;\n",
       "    }\n",
       "</style>\n",
       "<table border=\"1\" class=\"dataframe\">\n",
       "  <thead>\n",
       "    <tr style=\"text-align: right;\">\n",
       "      <th></th>\n",
       "      <th>Student ID</th>\n",
       "      <th>student_name</th>\n",
       "      <th>gender</th>\n",
       "      <th>grade</th>\n",
       "      <th>school_name</th>\n",
       "      <th>reading_score</th>\n",
       "      <th>math_score</th>\n",
       "      <th>School ID</th>\n",
       "      <th>type</th>\n",
       "      <th>size</th>\n",
       "      <th>budget</th>\n",
       "    </tr>\n",
       "  </thead>\n",
       "  <tbody>\n",
       "    <tr>\n",
       "      <th>39165</th>\n",
       "      <td>39165</td>\n",
       "      <td>Donna Howard</td>\n",
       "      <td>F</td>\n",
       "      <td>12th</td>\n",
       "      <td>Thomas High School</td>\n",
       "      <td>99</td>\n",
       "      <td>90</td>\n",
       "      <td>14</td>\n",
       "      <td>Charter</td>\n",
       "      <td>1635</td>\n",
       "      <td>1043130</td>\n",
       "    </tr>\n",
       "    <tr>\n",
       "      <th>39166</th>\n",
       "      <td>39166</td>\n",
       "      <td>Dawn Bell</td>\n",
       "      <td>F</td>\n",
       "      <td>10th</td>\n",
       "      <td>Thomas High School</td>\n",
       "      <td>95</td>\n",
       "      <td>70</td>\n",
       "      <td>14</td>\n",
       "      <td>Charter</td>\n",
       "      <td>1635</td>\n",
       "      <td>1043130</td>\n",
       "    </tr>\n",
       "    <tr>\n",
       "      <th>39167</th>\n",
       "      <td>39167</td>\n",
       "      <td>Rebecca Tanner</td>\n",
       "      <td>F</td>\n",
       "      <td>9th</td>\n",
       "      <td>Thomas High School</td>\n",
       "      <td>73</td>\n",
       "      <td>84</td>\n",
       "      <td>14</td>\n",
       "      <td>Charter</td>\n",
       "      <td>1635</td>\n",
       "      <td>1043130</td>\n",
       "    </tr>\n",
       "    <tr>\n",
       "      <th>39168</th>\n",
       "      <td>39168</td>\n",
       "      <td>Desiree Kidd</td>\n",
       "      <td>F</td>\n",
       "      <td>10th</td>\n",
       "      <td>Thomas High School</td>\n",
       "      <td>99</td>\n",
       "      <td>90</td>\n",
       "      <td>14</td>\n",
       "      <td>Charter</td>\n",
       "      <td>1635</td>\n",
       "      <td>1043130</td>\n",
       "    </tr>\n",
       "    <tr>\n",
       "      <th>39169</th>\n",
       "      <td>39169</td>\n",
       "      <td>Carolyn Jackson</td>\n",
       "      <td>F</td>\n",
       "      <td>11th</td>\n",
       "      <td>Thomas High School</td>\n",
       "      <td>95</td>\n",
       "      <td>75</td>\n",
       "      <td>14</td>\n",
       "      <td>Charter</td>\n",
       "      <td>1635</td>\n",
       "      <td>1043130</td>\n",
       "    </tr>\n",
       "  </tbody>\n",
       "</table>\n",
       "</div>"
      ],
      "text/plain": [
       "       Student ID     student_name gender grade         school_name  \\\n",
       "39165       39165     Donna Howard      F  12th  Thomas High School   \n",
       "39166       39166        Dawn Bell      F  10th  Thomas High School   \n",
       "39167       39167   Rebecca Tanner      F   9th  Thomas High School   \n",
       "39168       39168     Desiree Kidd      F  10th  Thomas High School   \n",
       "39169       39169  Carolyn Jackson      F  11th  Thomas High School   \n",
       "\n",
       "       reading_score  math_score  School ID     type  size   budget  \n",
       "39165             99          90         14  Charter  1635  1043130  \n",
       "39166             95          70         14  Charter  1635  1043130  \n",
       "39167             73          84         14  Charter  1635  1043130  \n",
       "39168             99          90         14  Charter  1635  1043130  \n",
       "39169             95          75         14  Charter  1635  1043130  "
      ]
     },
     "execution_count": 1,
     "metadata": {},
     "output_type": "execute_result"
    }
   ],
   "source": [
    "# Dependencies and Setup\n",
    "import pandas as pd\n",
    "import numpy as np\n",
    "\n",
    "# File to Load (Remember to Change These)\n",
    "school_data_to_load = \"schools_complete.csv\"\n",
    "student_data_to_load = \"students_complete.csv\"\n",
    "\n",
    "# Read School and Student Data File and store into Pandas DataFrames\n",
    "school_data = pd.read_csv(school_data_to_load)\n",
    "student_data = pd.read_csv(student_data_to_load)\n",
    "\n",
    "# Combine the data into a single dataset.  \n",
    "school_data_complete = pd.merge(student_data, school_data, how=\"outer\", on=[\"school_name\", \"school_name\"])\n",
    "\n",
    "school_data_complete.tail()"
   ]
  },
  {
   "cell_type": "markdown",
   "metadata": {},
   "source": [
    "## District Summary\n",
    "\n",
    "* Calculate the total number of schools\n",
    "\n",
    "* Calculate the total number of students\n",
    "\n",
    "* Calculate the total budget\n",
    "\n",
    "* Calculate the average math score \n",
    "\n",
    "* Calculate the average reading score\n",
    "\n",
    "* Calculate the percentage of students with a passing math score (70 or greater)\n",
    "\n",
    "* Calculate the percentage of students with a passing reading score (70 or greater)\n",
    "\n",
    "* Calculate the percentage of students who passed math **and** reading (% Overall Passing)\n",
    "\n",
    "* Create a dataframe to hold the above results\n",
    "\n",
    "* Optional: give the displayed data cleaner formatting"
   ]
  },
  {
   "cell_type": "code",
   "execution_count": 2,
   "metadata": {},
   "outputs": [
    {
     "name": "stdout",
     "output_type": "stream",
     "text": [
      "The total number of schools are: 15\n"
     ]
    }
   ],
   "source": [
    "# number of schools\n",
    "number_schools=school_data_complete['school_name'].nunique()\n",
    "print(f'The total number of schools are: {number_schools}')"
   ]
  },
  {
   "cell_type": "code",
   "execution_count": 3,
   "metadata": {},
   "outputs": [
    {
     "name": "stdout",
     "output_type": "stream",
     "text": [
      "The total number of students are: 39170\n"
     ]
    }
   ],
   "source": [
    "# number of sudents\n",
    "number_students=school_data_complete['student_name'].count()\n",
    "print(f'The total number of students are: {number_students}')"
   ]
  },
  {
   "cell_type": "code",
   "execution_count": 4,
   "metadata": {},
   "outputs": [
    {
     "name": "stdout",
     "output_type": "stream",
     "text": [
      "The total school system budget is: $24649428\n"
     ]
    }
   ],
   "source": [
    "# calculate total school system budget\n",
    "system_budget=school_data['budget'].sum(min_count=1)\n",
    "print(f'The total school system budget is: ${system_budget}')"
   ]
  },
  {
   "cell_type": "code",
   "execution_count": 5,
   "metadata": {},
   "outputs": [
    {
     "name": "stdout",
     "output_type": "stream",
     "text": [
      "The average math score for the whole system is: 78.99%\n"
     ]
    }
   ],
   "source": [
    "#average math scores\n",
    "math_scores_average=school_data_complete['math_score'].mean()\n",
    "print(f'The average math score for the whole system is: {round(math_scores_average,2)}%')"
   ]
  },
  {
   "cell_type": "code",
   "execution_count": 6,
   "metadata": {},
   "outputs": [
    {
     "name": "stdout",
     "output_type": "stream",
     "text": [
      "The average math score for the whole system is: 81.88%\n"
     ]
    }
   ],
   "source": [
    "#average reading scores\n",
    "reading_scores_average=school_data_complete['reading_score'].mean()\n",
    "print(f'The average math score for the whole system is: {round(reading_scores_average,2)}%')"
   ]
  },
  {
   "cell_type": "code",
   "execution_count": 7,
   "metadata": {},
   "outputs": [
    {
     "name": "stdout",
     "output_type": "stream",
     "text": [
      "The percentage of students with a math score of 70% or higher is: 74.98%\n"
     ]
    }
   ],
   "source": [
    "#math greater than 70\n",
    "passing_math=school_data_complete['math_score']>=70\n",
    "passing_math_ave=(passing_math.values.sum()/number_students)*100\n",
    "print(f'The percentage of students with a math score of 70% or higher is: {round(passing_math_ave,2)}%')"
   ]
  },
  {
   "cell_type": "code",
   "execution_count": 8,
   "metadata": {
    "scrolled": true
   },
   "outputs": [
    {
     "name": "stdout",
     "output_type": "stream",
     "text": [
      "The percentage of students with a reading score of 70% or higher is: 85.81%\n"
     ]
    }
   ],
   "source": [
    "#reading greater than 70\n",
    "passing_reading=school_data_complete['reading_score']>=70\n",
    "passing_reading_ave=(passing_reading.values.sum()/number_students)*100\n",
    "print(f'The percentage of students with a reading score of 70% or higher is: {round(passing_reading_ave,2)}%')"
   ]
  },
  {
   "cell_type": "code",
   "execution_count": 9,
   "metadata": {
    "scrolled": false
   },
   "outputs": [
    {
     "name": "stdout",
     "output_type": "stream",
     "text": [
      "The percentage of students that are proficient in both math and reading is: 65.17%\n"
     ]
    }
   ],
   "source": [
    "passing_math_read=[(school_data_complete['math_score'] >=70) & (school_data_complete['reading_score'] >=70)]\n",
    "#don't know how this worked. I'm thinking that I combined two columns that I have to sum the two columns together first then sum the result of that. \n",
    "passing_math_read_ave=(sum(passing_math_read).sum()/number_students)*100\n",
    "# passing_math_read_ave\n",
    "print(f'The percentage of students that are proficient in both math and reading is: {round(passing_math_read_ave,2)}%')"
   ]
  },
  {
   "cell_type": "code",
   "execution_count": 10,
   "metadata": {},
   "outputs": [
    {
     "data": {
      "text/html": [
       "<div>\n",
       "<style scoped>\n",
       "    .dataframe tbody tr th:only-of-type {\n",
       "        vertical-align: middle;\n",
       "    }\n",
       "\n",
       "    .dataframe tbody tr th {\n",
       "        vertical-align: top;\n",
       "    }\n",
       "\n",
       "    .dataframe thead th {\n",
       "        text-align: right;\n",
       "    }\n",
       "</style>\n",
       "<table border=\"1\" class=\"dataframe\">\n",
       "  <thead>\n",
       "    <tr style=\"text-align: right;\">\n",
       "      <th></th>\n",
       "      <th>Number_of_schools</th>\n",
       "      <th>Number_of_students</th>\n",
       "      <th>System_budget</th>\n",
       "      <th>Average_math_score</th>\n",
       "      <th>Average_reading_score</th>\n",
       "      <th>Proficient_in_math</th>\n",
       "      <th>Proficient_in_reading</th>\n",
       "      <th>Proficient_in_math_and_reading</th>\n",
       "    </tr>\n",
       "  </thead>\n",
       "  <tbody>\n",
       "    <tr>\n",
       "      <th>System Data</th>\n",
       "      <td>15</td>\n",
       "      <td>39170</td>\n",
       "      <td>24649428</td>\n",
       "      <td>78.99</td>\n",
       "      <td>81.88</td>\n",
       "      <td>74.98</td>\n",
       "      <td>85.81</td>\n",
       "      <td>65.17</td>\n",
       "    </tr>\n",
       "  </tbody>\n",
       "</table>\n",
       "</div>"
      ],
      "text/plain": [
       "             Number_of_schools  Number_of_students  System_budget  \\\n",
       "System Data                 15               39170       24649428   \n",
       "\n",
       "             Average_math_score  Average_reading_score  Proficient_in_math  \\\n",
       "System Data               78.99                  81.88               74.98   \n",
       "\n",
       "             Proficient_in_reading  Proficient_in_math_and_reading  \n",
       "System Data                  85.81                           65.17  "
      ]
     },
     "execution_count": 10,
     "metadata": {},
     "output_type": "execute_result"
    }
   ],
   "source": [
    "district_data= {'Number_of_schools':[number_schools],\n",
    "               'Number_of_students':[number_students],\n",
    "               'System_budget':[system_budget],\n",
    "               'Average_math_score':[round(math_scores_average,2)],\n",
    "               'Average_reading_score':[round(reading_scores_average,2)],\n",
    "               'Proficient_in_math':[round(passing_math_ave,2)],\n",
    "               'Proficient_in_reading':[round(passing_reading_ave,2)],\n",
    "               'Proficient_in_math_and_reading':[round(passing_math_read_ave,2)]}\n",
    "\n",
    "df_district=pd.DataFrame(district_data, columns= ['Number_of_schools','Number_of_students','System_budget','Average_math_score','Average_reading_score','Proficient_in_math','Proficient_in_reading','Proficient_in_math_and_reading'], index=['System Data'])\n",
    "\n",
    "df_district\n"
   ]
  },
  {
   "cell_type": "markdown",
   "metadata": {},
   "source": [
    "## School Summary"
   ]
  },
  {
   "cell_type": "markdown",
   "metadata": {},
   "source": [
    "* Create an overview table that summarizes key metrics about each school, including:\n",
    "  * School Name\n",
    "  * School Type\n",
    "  * Total Students\n",
    "  * Total School Budget\n",
    "  * Per Student Budget\n",
    "  * Average Math Score\n",
    "  * Average Reading Score\n",
    "  * % Passing Math\n",
    "  * % Passing Reading\n",
    "  * % Overall Passing (The percentage of students that passed math **and** reading.)\n",
    "  \n",
    "* Create a dataframe to hold the above results"
   ]
  },
  {
   "cell_type": "code",
   "execution_count": 11,
   "metadata": {},
   "outputs": [],
   "source": [
    "df_school=school_data[['school_name','type','size','budget']]\n",
    "df_school['per_student_budget']=df_school['budget']/df_school['size']"
   ]
  },
  {
   "cell_type": "code",
   "execution_count": 12,
   "metadata": {},
   "outputs": [],
   "source": [
    "Huang_math=school_data_complete.loc[school_data_complete.school_name=='Huang High School','math_score']\n",
    "Huang_math_ave=round(Huang_math.mean(),2)\n",
    "\n",
    "Figueroa_math=school_data_complete.loc[school_data_complete.school_name=='Figueroa High School','math_score']\n",
    "Figueroa_math_ave=round(Figueroa_math.mean(),2)\n",
    "\n",
    "Shelton_math=school_data_complete.loc[school_data_complete.school_name=='Shelton High School','math_score']\n",
    "Shelton_math_ave=round(Shelton_math.mean(),2)\n",
    "\n",
    "Hernandez_math=school_data_complete.loc[school_data_complete.school_name=='Hernandez High School','math_score']\n",
    "Hernandez_math_ave=round(Hernandez_math.mean(),2)\n",
    "\n",
    "Griffin_math=school_data_complete.loc[school_data_complete.school_name=='Griffin High School','math_score']\n",
    "Griffin_math_ave=round(Griffin_math.mean(),2)\n",
    "\n",
    "Wilson_math=school_data_complete.loc[school_data_complete.school_name=='Wilson High School','math_score']\n",
    "Wilson_math_ave=round(Wilson_math.mean(),2)\n",
    "\n",
    "Cabrera_math=school_data_complete.loc[school_data_complete.school_name=='Cabrera High School','math_score']\n",
    "Cabrera_math_ave=round(Cabrera_math.mean(),2)\n",
    "\n",
    "Bailey_math=school_data_complete.loc[school_data_complete.school_name=='Bailey High School','math_score']\n",
    "Bailey_math_ave=round(Bailey_math.mean(),2)\n",
    "\n",
    "Holden_math=school_data_complete.loc[school_data_complete.school_name=='Holden High School','math_score']\n",
    "Holden_math_ave=round(Holden_math.mean(),2)\n",
    "\n",
    "Pena_math=school_data_complete.loc[school_data_complete.school_name=='Pena High School','math_score']\n",
    "Pena_math_ave=round(Pena_math.mean(),2)\n",
    "\n",
    "Wright_math=school_data_complete.loc[school_data_complete.school_name=='Wright High School','math_score']\n",
    "Wright_math_ave=round(Wright_math.mean(),2)\n",
    "\n",
    "Rodriguez_math=school_data_complete.loc[school_data_complete.school_name=='Rodriguez High School','math_score']\n",
    "Rodriguez_math_ave=round(Rodriguez_math.mean(),2)\n",
    "\n",
    "Johnson_math=school_data_complete.loc[school_data_complete.school_name=='Johnson High School','math_score']\n",
    "Johnson_math_ave=round(Johnson_math.mean(),2)\n",
    "\n",
    "Ford_math=school_data_complete.loc[school_data_complete.school_name=='Ford High School','math_score']\n",
    "Ford_math_ave=round(Ford_math.mean(),2)\n",
    "\n",
    "Thomas_math=school_data_complete.loc[school_data_complete.school_name=='Thomas High School','math_score']\n",
    "Thomas_math_ave=round(Thomas_math.mean(),2)\n",
    "\n",
    "list_math_ave= [Huang_math_ave,Figueroa_math_ave,Shelton_math_ave,Hernandez_math_ave,Griffin_math_ave,Wilson_math_ave,\n",
    "               Cabrera_math_ave,Bailey_math_ave,Holden_math_ave,Pena_math_ave,Wright_math_ave,Rodriguez_math_ave,\n",
    "                Johnson_math_ave,Ford_math_ave,Thomas_math_ave]"
   ]
  },
  {
   "cell_type": "code",
   "execution_count": 13,
   "metadata": {},
   "outputs": [],
   "source": [
    "Huang_read=school_data_complete.loc[school_data_complete.school_name=='Huang High School','reading_score']\n",
    "Huang_read_ave=round(Huang_read.mean(),2)\n",
    "\n",
    "Figueroa_read=school_data_complete.loc[school_data_complete.school_name=='Figueroa High School','reading_score']\n",
    "Figueroa_read_ave=round(Figueroa_read.mean(),2)\n",
    "\n",
    "Shelton_read=school_data_complete.loc[school_data_complete.school_name=='Shelton High School','reading_score']\n",
    "Shelton_read_ave=round(Shelton_read.mean(),2)\n",
    "\n",
    "Hernandez_read=school_data_complete.loc[school_data_complete.school_name=='Hernandez High School','reading_score']\n",
    "Hernandez_read_ave=round(Hernandez_read.mean(),2)\n",
    "\n",
    "Griffin_read=school_data_complete.loc[school_data_complete.school_name=='Griffin High School','reading_score']\n",
    "Griffin_read_ave=round(Griffin_read.mean(),2)\n",
    "\n",
    "Wilson_read=school_data_complete.loc[school_data_complete.school_name=='Wilson High School','reading_score']\n",
    "Wilson_read_ave=round(Wilson_read.mean(),2)\n",
    "\n",
    "Cabrera_read=school_data_complete.loc[school_data_complete.school_name=='Cabrera High School','reading_score']\n",
    "Cabrera_read_ave=round(Cabrera_read.mean(),2)\n",
    "\n",
    "Bailey_read=school_data_complete.loc[school_data_complete.school_name=='Bailey High School','reading_score']\n",
    "Bailey_read_ave=round(Bailey_read.mean(),2)\n",
    "\n",
    "Holden_read=school_data_complete.loc[school_data_complete.school_name=='Holden High School','reading_score']\n",
    "Holden_read_ave=round(Holden_read.mean(),2)\n",
    "\n",
    "Pena_read=school_data_complete.loc[school_data_complete.school_name=='Pena High School','reading_score']\n",
    "Pena_read_ave=round(Pena_read.mean(),2)\n",
    "\n",
    "Wright_read=school_data_complete.loc[school_data_complete.school_name=='Wright High School','reading_score']\n",
    "Wright_read_ave=round(Wright_read.mean(),2)\n",
    "\n",
    "Rodriguez_read=school_data_complete.loc[school_data_complete.school_name=='Rodriguez High School','reading_score']\n",
    "Rodriguez_read_ave=round(Rodriguez_read.mean(),2)\n",
    "\n",
    "Johnson_read=school_data_complete.loc[school_data_complete.school_name=='Johnson High School','reading_score']\n",
    "Johnson_read_ave=round(Johnson_read.mean(),2)\n",
    "\n",
    "Ford_read=school_data_complete.loc[school_data_complete.school_name=='Ford High School','reading_score']\n",
    "Ford_read_ave=round(Ford_read.mean(),2)\n",
    "\n",
    "Thomas_read=school_data_complete.loc[school_data_complete.school_name=='Thomas High School','reading_score']\n",
    "Thomas_read_ave=round(Thomas_read.mean(),2)\n",
    "\n",
    "list_read_ave= [Huang_read_ave,Figueroa_read_ave,Shelton_read_ave,Hernandez_read_ave,Griffin_read_ave,Wilson_read_ave,\n",
    "               Cabrera_read_ave,Bailey_read_ave,Holden_read_ave,Pena_read_ave,Wright_read_ave,Rodriguez_read_ave,\n",
    "                Johnson_read_ave,Ford_read_ave,Thomas_read_ave]"
   ]
  },
  {
   "cell_type": "code",
   "execution_count": 14,
   "metadata": {},
   "outputs": [],
   "source": [
    "df_school[\"ave_math_score\"]=list_math_ave\n",
    "df_school[\"ave_reading_score\"]=list_read_ave\n"
   ]
  },
  {
   "cell_type": "code",
   "execution_count": 15,
   "metadata": {},
   "outputs": [
    {
     "data": {
      "text/html": [
       "<div>\n",
       "<style scoped>\n",
       "    .dataframe tbody tr th:only-of-type {\n",
       "        vertical-align: middle;\n",
       "    }\n",
       "\n",
       "    .dataframe tbody tr th {\n",
       "        vertical-align: top;\n",
       "    }\n",
       "\n",
       "    .dataframe thead th {\n",
       "        text-align: right;\n",
       "    }\n",
       "</style>\n",
       "<table border=\"1\" class=\"dataframe\">\n",
       "  <thead>\n",
       "    <tr style=\"text-align: right;\">\n",
       "      <th></th>\n",
       "      <th>school_name</th>\n",
       "      <th>type</th>\n",
       "      <th>size</th>\n",
       "      <th>budget</th>\n",
       "      <th>per_student_budget</th>\n",
       "      <th>ave_math_score</th>\n",
       "      <th>ave_reading_score</th>\n",
       "    </tr>\n",
       "  </thead>\n",
       "  <tbody>\n",
       "    <tr>\n",
       "      <th>0</th>\n",
       "      <td>Huang High School</td>\n",
       "      <td>District</td>\n",
       "      <td>2917</td>\n",
       "      <td>1910635</td>\n",
       "      <td>655.0</td>\n",
       "      <td>76.63</td>\n",
       "      <td>81.18</td>\n",
       "    </tr>\n",
       "    <tr>\n",
       "      <th>1</th>\n",
       "      <td>Figueroa High School</td>\n",
       "      <td>District</td>\n",
       "      <td>2949</td>\n",
       "      <td>1884411</td>\n",
       "      <td>639.0</td>\n",
       "      <td>76.71</td>\n",
       "      <td>81.16</td>\n",
       "    </tr>\n",
       "    <tr>\n",
       "      <th>2</th>\n",
       "      <td>Shelton High School</td>\n",
       "      <td>Charter</td>\n",
       "      <td>1761</td>\n",
       "      <td>1056600</td>\n",
       "      <td>600.0</td>\n",
       "      <td>83.36</td>\n",
       "      <td>83.73</td>\n",
       "    </tr>\n",
       "    <tr>\n",
       "      <th>3</th>\n",
       "      <td>Hernandez High School</td>\n",
       "      <td>District</td>\n",
       "      <td>4635</td>\n",
       "      <td>3022020</td>\n",
       "      <td>652.0</td>\n",
       "      <td>77.29</td>\n",
       "      <td>80.93</td>\n",
       "    </tr>\n",
       "    <tr>\n",
       "      <th>4</th>\n",
       "      <td>Griffin High School</td>\n",
       "      <td>Charter</td>\n",
       "      <td>1468</td>\n",
       "      <td>917500</td>\n",
       "      <td>625.0</td>\n",
       "      <td>83.35</td>\n",
       "      <td>83.82</td>\n",
       "    </tr>\n",
       "    <tr>\n",
       "      <th>5</th>\n",
       "      <td>Wilson High School</td>\n",
       "      <td>Charter</td>\n",
       "      <td>2283</td>\n",
       "      <td>1319574</td>\n",
       "      <td>578.0</td>\n",
       "      <td>83.27</td>\n",
       "      <td>83.99</td>\n",
       "    </tr>\n",
       "    <tr>\n",
       "      <th>6</th>\n",
       "      <td>Cabrera High School</td>\n",
       "      <td>Charter</td>\n",
       "      <td>1858</td>\n",
       "      <td>1081356</td>\n",
       "      <td>582.0</td>\n",
       "      <td>83.06</td>\n",
       "      <td>83.98</td>\n",
       "    </tr>\n",
       "    <tr>\n",
       "      <th>7</th>\n",
       "      <td>Bailey High School</td>\n",
       "      <td>District</td>\n",
       "      <td>4976</td>\n",
       "      <td>3124928</td>\n",
       "      <td>628.0</td>\n",
       "      <td>77.05</td>\n",
       "      <td>81.03</td>\n",
       "    </tr>\n",
       "    <tr>\n",
       "      <th>8</th>\n",
       "      <td>Holden High School</td>\n",
       "      <td>Charter</td>\n",
       "      <td>427</td>\n",
       "      <td>248087</td>\n",
       "      <td>581.0</td>\n",
       "      <td>83.80</td>\n",
       "      <td>83.81</td>\n",
       "    </tr>\n",
       "    <tr>\n",
       "      <th>9</th>\n",
       "      <td>Pena High School</td>\n",
       "      <td>Charter</td>\n",
       "      <td>962</td>\n",
       "      <td>585858</td>\n",
       "      <td>609.0</td>\n",
       "      <td>83.84</td>\n",
       "      <td>84.04</td>\n",
       "    </tr>\n",
       "    <tr>\n",
       "      <th>10</th>\n",
       "      <td>Wright High School</td>\n",
       "      <td>Charter</td>\n",
       "      <td>1800</td>\n",
       "      <td>1049400</td>\n",
       "      <td>583.0</td>\n",
       "      <td>83.68</td>\n",
       "      <td>83.96</td>\n",
       "    </tr>\n",
       "    <tr>\n",
       "      <th>11</th>\n",
       "      <td>Rodriguez High School</td>\n",
       "      <td>District</td>\n",
       "      <td>3999</td>\n",
       "      <td>2547363</td>\n",
       "      <td>637.0</td>\n",
       "      <td>76.84</td>\n",
       "      <td>80.74</td>\n",
       "    </tr>\n",
       "    <tr>\n",
       "      <th>12</th>\n",
       "      <td>Johnson High School</td>\n",
       "      <td>District</td>\n",
       "      <td>4761</td>\n",
       "      <td>3094650</td>\n",
       "      <td>650.0</td>\n",
       "      <td>77.07</td>\n",
       "      <td>80.97</td>\n",
       "    </tr>\n",
       "    <tr>\n",
       "      <th>13</th>\n",
       "      <td>Ford High School</td>\n",
       "      <td>District</td>\n",
       "      <td>2739</td>\n",
       "      <td>1763916</td>\n",
       "      <td>644.0</td>\n",
       "      <td>77.10</td>\n",
       "      <td>80.75</td>\n",
       "    </tr>\n",
       "    <tr>\n",
       "      <th>14</th>\n",
       "      <td>Thomas High School</td>\n",
       "      <td>Charter</td>\n",
       "      <td>1635</td>\n",
       "      <td>1043130</td>\n",
       "      <td>638.0</td>\n",
       "      <td>83.42</td>\n",
       "      <td>83.85</td>\n",
       "    </tr>\n",
       "  </tbody>\n",
       "</table>\n",
       "</div>"
      ],
      "text/plain": [
       "              school_name      type  size   budget  per_student_budget  \\\n",
       "0       Huang High School  District  2917  1910635               655.0   \n",
       "1    Figueroa High School  District  2949  1884411               639.0   \n",
       "2     Shelton High School   Charter  1761  1056600               600.0   \n",
       "3   Hernandez High School  District  4635  3022020               652.0   \n",
       "4     Griffin High School   Charter  1468   917500               625.0   \n",
       "5      Wilson High School   Charter  2283  1319574               578.0   \n",
       "6     Cabrera High School   Charter  1858  1081356               582.0   \n",
       "7      Bailey High School  District  4976  3124928               628.0   \n",
       "8      Holden High School   Charter   427   248087               581.0   \n",
       "9        Pena High School   Charter   962   585858               609.0   \n",
       "10     Wright High School   Charter  1800  1049400               583.0   \n",
       "11  Rodriguez High School  District  3999  2547363               637.0   \n",
       "12    Johnson High School  District  4761  3094650               650.0   \n",
       "13       Ford High School  District  2739  1763916               644.0   \n",
       "14     Thomas High School   Charter  1635  1043130               638.0   \n",
       "\n",
       "    ave_math_score  ave_reading_score  \n",
       "0            76.63              81.18  \n",
       "1            76.71              81.16  \n",
       "2            83.36              83.73  \n",
       "3            77.29              80.93  \n",
       "4            83.35              83.82  \n",
       "5            83.27              83.99  \n",
       "6            83.06              83.98  \n",
       "7            77.05              81.03  \n",
       "8            83.80              83.81  \n",
       "9            83.84              84.04  \n",
       "10           83.68              83.96  \n",
       "11           76.84              80.74  \n",
       "12           77.07              80.97  \n",
       "13           77.10              80.75  \n",
       "14           83.42              83.85  "
      ]
     },
     "execution_count": 15,
     "metadata": {},
     "output_type": "execute_result"
    }
   ],
   "source": [
    "df_school"
   ]
  },
  {
   "cell_type": "code",
   "execution_count": 16,
   "metadata": {},
   "outputs": [
    {
     "data": {
      "text/plain": [
       "2372"
      ]
     },
     "execution_count": 16,
     "metadata": {},
     "output_type": "execute_result"
    }
   ],
   "source": [
    "Huang_read_p=school_data_complete.loc[school_data_complete.school_name=='Huang High School','reading_score']>=70\n",
    "Huang_read_p.sum()"
   ]
  },
  {
   "cell_type": "code",
   "execution_count": 29,
   "metadata": {},
   "outputs": [
    {
     "data": {
      "text/html": [
       "<div>\n",
       "<style scoped>\n",
       "    .dataframe tbody tr th:only-of-type {\n",
       "        vertical-align: middle;\n",
       "    }\n",
       "\n",
       "    .dataframe tbody tr th {\n",
       "        vertical-align: top;\n",
       "    }\n",
       "\n",
       "    .dataframe thead th {\n",
       "        text-align: right;\n",
       "    }\n",
       "</style>\n",
       "<table border=\"1\" class=\"dataframe\">\n",
       "  <thead>\n",
       "    <tr style=\"text-align: right;\">\n",
       "      <th></th>\n",
       "      <th>Student ID</th>\n",
       "      <th>student_name</th>\n",
       "      <th>gender</th>\n",
       "      <th>grade</th>\n",
       "      <th>school_name</th>\n",
       "      <th>reading_score</th>\n",
       "      <th>math_score</th>\n",
       "      <th>School ID</th>\n",
       "      <th>type</th>\n",
       "      <th>size</th>\n",
       "      <th>budget</th>\n",
       "    </tr>\n",
       "  </thead>\n",
       "  <tbody>\n",
       "    <tr>\n",
       "      <th>0</th>\n",
       "      <td>0</td>\n",
       "      <td>Paul Bradley</td>\n",
       "      <td>M</td>\n",
       "      <td>9th</td>\n",
       "      <td>Huang High School</td>\n",
       "      <td>66</td>\n",
       "      <td>79</td>\n",
       "      <td>0</td>\n",
       "      <td>District</td>\n",
       "      <td>2917</td>\n",
       "      <td>1910635</td>\n",
       "    </tr>\n",
       "    <tr>\n",
       "      <th>1</th>\n",
       "      <td>1</td>\n",
       "      <td>Victor Smith</td>\n",
       "      <td>M</td>\n",
       "      <td>12th</td>\n",
       "      <td>Huang High School</td>\n",
       "      <td>94</td>\n",
       "      <td>61</td>\n",
       "      <td>0</td>\n",
       "      <td>District</td>\n",
       "      <td>2917</td>\n",
       "      <td>1910635</td>\n",
       "    </tr>\n",
       "    <tr>\n",
       "      <th>2</th>\n",
       "      <td>2</td>\n",
       "      <td>Kevin Rodriguez</td>\n",
       "      <td>M</td>\n",
       "      <td>12th</td>\n",
       "      <td>Huang High School</td>\n",
       "      <td>90</td>\n",
       "      <td>60</td>\n",
       "      <td>0</td>\n",
       "      <td>District</td>\n",
       "      <td>2917</td>\n",
       "      <td>1910635</td>\n",
       "    </tr>\n",
       "    <tr>\n",
       "      <th>3</th>\n",
       "      <td>3</td>\n",
       "      <td>Dr. Richard Scott</td>\n",
       "      <td>M</td>\n",
       "      <td>12th</td>\n",
       "      <td>Huang High School</td>\n",
       "      <td>67</td>\n",
       "      <td>58</td>\n",
       "      <td>0</td>\n",
       "      <td>District</td>\n",
       "      <td>2917</td>\n",
       "      <td>1910635</td>\n",
       "    </tr>\n",
       "    <tr>\n",
       "      <th>4</th>\n",
       "      <td>4</td>\n",
       "      <td>Bonnie Ray</td>\n",
       "      <td>F</td>\n",
       "      <td>9th</td>\n",
       "      <td>Huang High School</td>\n",
       "      <td>97</td>\n",
       "      <td>84</td>\n",
       "      <td>0</td>\n",
       "      <td>District</td>\n",
       "      <td>2917</td>\n",
       "      <td>1910635</td>\n",
       "    </tr>\n",
       "    <tr>\n",
       "      <th>...</th>\n",
       "      <td>...</td>\n",
       "      <td>...</td>\n",
       "      <td>...</td>\n",
       "      <td>...</td>\n",
       "      <td>...</td>\n",
       "      <td>...</td>\n",
       "      <td>...</td>\n",
       "      <td>...</td>\n",
       "      <td>...</td>\n",
       "      <td>...</td>\n",
       "      <td>...</td>\n",
       "    </tr>\n",
       "    <tr>\n",
       "      <th>39165</th>\n",
       "      <td>39165</td>\n",
       "      <td>Donna Howard</td>\n",
       "      <td>F</td>\n",
       "      <td>12th</td>\n",
       "      <td>Thomas High School</td>\n",
       "      <td>99</td>\n",
       "      <td>90</td>\n",
       "      <td>14</td>\n",
       "      <td>Charter</td>\n",
       "      <td>1635</td>\n",
       "      <td>1043130</td>\n",
       "    </tr>\n",
       "    <tr>\n",
       "      <th>39166</th>\n",
       "      <td>39166</td>\n",
       "      <td>Dawn Bell</td>\n",
       "      <td>F</td>\n",
       "      <td>10th</td>\n",
       "      <td>Thomas High School</td>\n",
       "      <td>95</td>\n",
       "      <td>70</td>\n",
       "      <td>14</td>\n",
       "      <td>Charter</td>\n",
       "      <td>1635</td>\n",
       "      <td>1043130</td>\n",
       "    </tr>\n",
       "    <tr>\n",
       "      <th>39167</th>\n",
       "      <td>39167</td>\n",
       "      <td>Rebecca Tanner</td>\n",
       "      <td>F</td>\n",
       "      <td>9th</td>\n",
       "      <td>Thomas High School</td>\n",
       "      <td>73</td>\n",
       "      <td>84</td>\n",
       "      <td>14</td>\n",
       "      <td>Charter</td>\n",
       "      <td>1635</td>\n",
       "      <td>1043130</td>\n",
       "    </tr>\n",
       "    <tr>\n",
       "      <th>39168</th>\n",
       "      <td>39168</td>\n",
       "      <td>Desiree Kidd</td>\n",
       "      <td>F</td>\n",
       "      <td>10th</td>\n",
       "      <td>Thomas High School</td>\n",
       "      <td>99</td>\n",
       "      <td>90</td>\n",
       "      <td>14</td>\n",
       "      <td>Charter</td>\n",
       "      <td>1635</td>\n",
       "      <td>1043130</td>\n",
       "    </tr>\n",
       "    <tr>\n",
       "      <th>39169</th>\n",
       "      <td>39169</td>\n",
       "      <td>Carolyn Jackson</td>\n",
       "      <td>F</td>\n",
       "      <td>11th</td>\n",
       "      <td>Thomas High School</td>\n",
       "      <td>95</td>\n",
       "      <td>75</td>\n",
       "      <td>14</td>\n",
       "      <td>Charter</td>\n",
       "      <td>1635</td>\n",
       "      <td>1043130</td>\n",
       "    </tr>\n",
       "  </tbody>\n",
       "</table>\n",
       "<p>39170 rows × 11 columns</p>\n",
       "</div>"
      ],
      "text/plain": [
       "       Student ID       student_name gender grade         school_name  \\\n",
       "0               0       Paul Bradley      M   9th   Huang High School   \n",
       "1               1       Victor Smith      M  12th   Huang High School   \n",
       "2               2    Kevin Rodriguez      M  12th   Huang High School   \n",
       "3               3  Dr. Richard Scott      M  12th   Huang High School   \n",
       "4               4         Bonnie Ray      F   9th   Huang High School   \n",
       "...           ...                ...    ...   ...                 ...   \n",
       "39165       39165       Donna Howard      F  12th  Thomas High School   \n",
       "39166       39166          Dawn Bell      F  10th  Thomas High School   \n",
       "39167       39167     Rebecca Tanner      F   9th  Thomas High School   \n",
       "39168       39168       Desiree Kidd      F  10th  Thomas High School   \n",
       "39169       39169    Carolyn Jackson      F  11th  Thomas High School   \n",
       "\n",
       "       reading_score  math_score  School ID      type  size   budget  \n",
       "0                 66          79          0  District  2917  1910635  \n",
       "1                 94          61          0  District  2917  1910635  \n",
       "2                 90          60          0  District  2917  1910635  \n",
       "3                 67          58          0  District  2917  1910635  \n",
       "4                 97          84          0  District  2917  1910635  \n",
       "...              ...         ...        ...       ...   ...      ...  \n",
       "39165             99          90         14   Charter  1635  1043130  \n",
       "39166             95          70         14   Charter  1635  1043130  \n",
       "39167             73          84         14   Charter  1635  1043130  \n",
       "39168             99          90         14   Charter  1635  1043130  \n",
       "39169             95          75         14   Charter  1635  1043130  \n",
       "\n",
       "[39170 rows x 11 columns]"
      ]
     },
     "execution_count": 29,
     "metadata": {},
     "output_type": "execute_result"
    }
   ],
   "source": []
  },
  {
   "cell_type": "markdown",
   "metadata": {},
   "source": [
    "## Top Performing Schools (By % Overall Passing)"
   ]
  },
  {
   "cell_type": "markdown",
   "metadata": {},
   "source": [
    "* Sort and display the top five performing schools by % overall passing."
   ]
  },
  {
   "cell_type": "code",
   "execution_count": null,
   "metadata": {
    "scrolled": true
   },
   "outputs": [],
   "source": []
  },
  {
   "cell_type": "markdown",
   "metadata": {},
   "source": [
    "## Bottom Performing Schools (By % Overall Passing)"
   ]
  },
  {
   "cell_type": "markdown",
   "metadata": {},
   "source": [
    "* Sort and display the five worst-performing schools by % overall passing."
   ]
  },
  {
   "cell_type": "code",
   "execution_count": null,
   "metadata": {},
   "outputs": [],
   "source": []
  },
  {
   "cell_type": "markdown",
   "metadata": {
    "collapsed": true
   },
   "source": [
    "## Math Scores by Grade"
   ]
  },
  {
   "cell_type": "markdown",
   "metadata": {},
   "source": [
    "* Create a table that lists the average Reading Score for students of each grade level (9th, 10th, 11th, 12th) at each school.\n",
    "\n",
    "  * Create a pandas series for each grade. Hint: use a conditional statement.\n",
    "  \n",
    "  * Group each series by school\n",
    "  \n",
    "  * Combine the series into a dataframe\n",
    "  \n",
    "  * Optional: give the displayed data cleaner formatting"
   ]
  },
  {
   "cell_type": "code",
   "execution_count": null,
   "metadata": {},
   "outputs": [],
   "source": []
  },
  {
   "cell_type": "markdown",
   "metadata": {},
   "source": [
    "## Reading Score by Grade "
   ]
  },
  {
   "cell_type": "markdown",
   "metadata": {},
   "source": [
    "* Perform the same operations as above for reading scores"
   ]
  },
  {
   "cell_type": "code",
   "execution_count": null,
   "metadata": {},
   "outputs": [],
   "source": []
  },
  {
   "cell_type": "markdown",
   "metadata": {},
   "source": [
    "## Scores by School Spending"
   ]
  },
  {
   "cell_type": "markdown",
   "metadata": {},
   "source": [
    "* Create a table that breaks down school performances based on average Spending Ranges (Per Student). Use 4 reasonable bins to group school spending. Include in the table each of the following:\n",
    "  * Average Math Score\n",
    "  * Average Reading Score\n",
    "  * % Passing Math\n",
    "  * % Passing Reading\n",
    "  * Overall Passing Rate (Average of the above two)"
   ]
  },
  {
   "cell_type": "code",
   "execution_count": null,
   "metadata": {},
   "outputs": [],
   "source": []
  },
  {
   "cell_type": "markdown",
   "metadata": {},
   "source": [
    "## Scores by School Size"
   ]
  },
  {
   "cell_type": "markdown",
   "metadata": {},
   "source": [
    "* Perform the same operations as above, based on school size."
   ]
  },
  {
   "cell_type": "code",
   "execution_count": null,
   "metadata": {
    "scrolled": true
   },
   "outputs": [],
   "source": []
  },
  {
   "cell_type": "markdown",
   "metadata": {},
   "source": [
    "## Scores by School Type"
   ]
  },
  {
   "cell_type": "markdown",
   "metadata": {},
   "source": [
    "* Perform the same operations as above, based on school type"
   ]
  },
  {
   "cell_type": "code",
   "execution_count": null,
   "metadata": {},
   "outputs": [],
   "source": []
  },
  {
   "cell_type": "code",
   "execution_count": null,
   "metadata": {},
   "outputs": [],
   "source": []
  }
 ],
 "metadata": {
  "anaconda-cloud": {},
  "kernel_info": {
   "name": "python3"
  },
  "kernelspec": {
   "display_name": "Python 3",
   "language": "python",
   "name": "python3"
  },
  "language_info": {
   "codemirror_mode": {
    "name": "ipython",
    "version": 3
   },
   "file_extension": ".py",
   "mimetype": "text/x-python",
   "name": "python",
   "nbconvert_exporter": "python",
   "pygments_lexer": "ipython3",
   "version": "3.7.8"
  },
  "latex_envs": {
   "LaTeX_envs_menu_present": true,
   "autoclose": false,
   "autocomplete": true,
   "bibliofile": "biblio.bib",
   "cite_by": "apalike",
   "current_citInitial": 1,
   "eqLabelWithNumbers": true,
   "eqNumInitial": 1,
   "hotkeys": {
    "equation": "Ctrl-E",
    "itemize": "Ctrl-I"
   },
   "labels_anchors": false,
   "latex_user_defs": false,
   "report_style_numbering": false,
   "user_envs_cfg": false
  },
  "nteract": {
   "version": "0.8.4"
  }
 },
 "nbformat": 4,
 "nbformat_minor": 1
}
